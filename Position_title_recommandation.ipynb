{
 "cells": [
  {
   "cell_type": "code",
   "execution_count": 15,
   "metadata": {},
   "outputs": [
    {
     "data": {
      "text/html": [
       "<div>\n",
       "<style>\n",
       "    .dataframe thead tr:only-child th {\n",
       "        text-align: right;\n",
       "    }\n",
       "\n",
       "    .dataframe thead th {\n",
       "        text-align: left;\n",
       "    }\n",
       "\n",
       "    .dataframe tbody tr th {\n",
       "        vertical-align: top;\n",
       "    }\n",
       "</style>\n",
       "<table border=\"1\" class=\"dataframe\">\n",
       "  <thead>\n",
       "    <tr style=\"text-align: right;\">\n",
       "      <th></th>\n",
       "      <th>comp</th>\n",
       "      <th>ind</th>\n",
       "      <th>job_role</th>\n",
       "      <th>title</th>\n",
       "    </tr>\n",
       "  </thead>\n",
       "  <tbody>\n",
       "    <tr>\n",
       "      <th>0</th>\n",
       "      <td>Entrepreneurial skills,Enterprise architecture...</td>\n",
       "      <td>Consulting</td>\n",
       "      <td>&lt;div class=\"block fix-text\" itemprop=\"descript...</td>\n",
       "      <td>Head of Service (Healthcare)</td>\n",
       "    </tr>\n",
       "    <tr>\n",
       "      <th>1</th>\n",
       "      <td>Administration skills</td>\n",
       "      <td>Construction</td>\n",
       "      <td>&lt;div class=\"block fix-text\" itemprop=\"descript...</td>\n",
       "      <td>Financial Controller, Maternity Cover</td>\n",
       "    </tr>\n",
       "    <tr>\n",
       "      <th>2</th>\n",
       "      <td>Strategic expertise</td>\n",
       "      <td>Information Technology</td>\n",
       "      <td>&lt;div class=\"block fix-text\" itemprop=\"descript...</td>\n",
       "      <td>Education Safeguarding Officer</td>\n",
       "    </tr>\n",
       "    <tr>\n",
       "      <th>3</th>\n",
       "      <td>Administration skills,Business intelligence,Cu...</td>\n",
       "      <td>Consulting</td>\n",
       "      <td>&lt;div class=\"block fix-text\" itemprop=\"descript...</td>\n",
       "      <td>National Media Manager</td>\n",
       "    </tr>\n",
       "    <tr>\n",
       "      <th>4</th>\n",
       "      <td>Business development and sales,Change leadersh...</td>\n",
       "      <td>Consulting</td>\n",
       "      <td>&lt;div class=\"block fix-text\" itemprop=\"descript...</td>\n",
       "      <td>Director of Innovation Consultancy</td>\n",
       "    </tr>\n",
       "  </tbody>\n",
       "</table>\n",
       "</div>"
      ],
      "text/plain": [
       "                                                comp                      ind  \\\n",
       "0  Entrepreneurial skills,Enterprise architecture...              Consulting    \n",
       "1                              Administration skills            Construction    \n",
       "2                                Strategic expertise  Information Technology    \n",
       "3  Administration skills,Business intelligence,Cu...              Consulting    \n",
       "4  Business development and sales,Change leadersh...              Consulting    \n",
       "\n",
       "                                            job_role  \\\n",
       "0  <div class=\"block fix-text\" itemprop=\"descript...   \n",
       "1  <div class=\"block fix-text\" itemprop=\"descript...   \n",
       "2  <div class=\"block fix-text\" itemprop=\"descript...   \n",
       "3  <div class=\"block fix-text\" itemprop=\"descript...   \n",
       "4  <div class=\"block fix-text\" itemprop=\"descript...   \n",
       "\n",
       "                                   title  \n",
       "0           Head of Service (Healthcare)  \n",
       "1  Financial Controller, Maternity Cover  \n",
       "2         Education Safeguarding Officer  \n",
       "3                 National Media Manager  \n",
       "4     Director of Innovation Consultancy  "
      ]
     },
     "execution_count": 15,
     "metadata": {},
     "output_type": "execute_result"
    }
   ],
   "source": [
    "import MySQLdb\n",
    "import MySQLdb.cursors\n",
    "import requests\n",
    "import pandas as pd\n",
    "import numpy as np\n",
    "\n",
    "cnx = MySQLdb.connect(host = 'localhost',\n",
    "                     database = 'cb-dev',\n",
    "                     user = 'root',\n",
    "                     password = 'root', \n",
    "                     compress = 1,\n",
    "                     cursorclass=MySQLdb.cursors.DictCursor)\n",
    "\n",
    "cursor = cnx.cursor()\n",
    "\n",
    "query = \"\"\"select jobs.title, jobs.job_role,\n",
    "            group_concat(distinct(select name from industries where id = industry_maps.industry_id)) as ind,\n",
    "            group_concat(distinct(select name from competencies where id = competency_maps.competency_id)) as comp\n",
    "\n",
    "            from jobs\n",
    "            inner join industry_maps on industry_maps.industry_mappable_id = jobs.id\n",
    "            inner join competency_maps on competency_maps.competency_mappable_id = jobs.id\n",
    "            group by industry_maps.industry_mappable_id, competency_maps.competency_mappable_id\"\"\" \n",
    "\n",
    "cursor.execute(query)\n",
    "\n",
    "tab = cursor.fetchall()\n",
    "\n",
    "df = pd.DataFrame(list(tab))\n",
    "df.head()\n"
   ]
  },
  {
   "cell_type": "code",
   "execution_count": 16,
   "metadata": {},
   "outputs": [],
   "source": [
    "import pandas as pd\n",
    "from rake_nltk import Rake\n",
    "import numpy as np\n",
    "from sklearn.metrics.pairwise import cosine_similarity\n",
    "from sklearn.feature_extraction.text import CountVectorizer\n"
   ]
  },
  {
   "cell_type": "code",
   "execution_count": 19,
   "metadata": {},
   "outputs": [
    {
     "data": {
      "text/plain": [
       "comp        False\n",
       "ind         False\n",
       "job_role    False\n",
       "title       False\n",
       "dtype: bool"
      ]
     },
     "execution_count": 19,
     "metadata": {},
     "output_type": "execute_result"
    }
   ],
   "source": [
    "df.isnull().any()"
   ]
  },
  {
   "cell_type": "code",
   "execution_count": 20,
   "metadata": {},
   "outputs": [
    {
     "data": {
      "text/plain": [
       "0    [Entrepreneurial skills, Enterprise architectu...\n",
       "1                              [Administration skills]\n",
       "2                                [Strategic expertise]\n",
       "3    [Administration skills, Business intelligence,...\n",
       "4    [Business development and sales, Change leader...\n",
       "Name: comp, dtype: object"
      ]
     },
     "execution_count": 20,
     "metadata": {},
     "output_type": "execute_result"
    }
   ],
   "source": [
    "df['comp'] = df['comp'].map(lambda x: x.split(\",\"))\n",
    "df['comp'].head()"
   ]
  },
  {
   "cell_type": "code",
   "execution_count": 21,
   "metadata": {
    "collapsed": true
   },
   "outputs": [],
   "source": [
    "df['ind'] = df['ind'].map(lambda x: x.split(\",\"))"
   ]
  },
  {
   "cell_type": "code",
   "execution_count": 22,
   "metadata": {
    "collapsed": true
   },
   "outputs": [],
   "source": [
    "for index, row in df.iterrows():\n",
    "    row['comp'] = [x.lower().replace(' ','') for x in row['comp']]\n",
    "    row['ind'] = [x.lower().replace(' ','') for x in row['ind']]\n",
    "    #row['ind'] = ''.join(row['ind']).lower()"
   ]
  },
  {
   "cell_type": "code",
   "execution_count": 24,
   "metadata": {},
   "outputs": [],
   "source": [
    "df['Key_words'] = \"\"\n",
    "\n",
    "for index, row in df.iterrows():\n",
    "    plot = row['job_role']\n",
    "    \n",
    "    # instantiating Rake, by default is uses english stopwords from NLTK\n",
    "    # and discard all puntuation characters\n",
    "    r = Rake()\n",
    "\n",
    "    # extracting the words by passing the text\n",
    "    r.extract_keywords_from_text(plot)\n",
    "\n",
    "    # getting the dictionary whith key words and their scores\n",
    "    key_words_dict_scores = r.get_word_degrees()\n",
    "    \n",
    "    # assigning the key words to the new column\n",
    "    row['Key_words'] = list(key_words_dict_scores.keys())\n",
    "\n",
    "# dropping the Plot column\n",
    "df.drop(['job_role'],axis = 1, inplace = True)"
   ]
  },
  {
   "cell_type": "code",
   "execution_count": 25,
   "metadata": {},
   "outputs": [
    {
     "data": {
      "text/html": [
       "<div>\n",
       "<style>\n",
       "    .dataframe thead tr:only-child th {\n",
       "        text-align: right;\n",
       "    }\n",
       "\n",
       "    .dataframe thead th {\n",
       "        text-align: left;\n",
       "    }\n",
       "\n",
       "    .dataframe tbody tr th {\n",
       "        vertical-align: top;\n",
       "    }\n",
       "</style>\n",
       "<table border=\"1\" class=\"dataframe\">\n",
       "  <thead>\n",
       "    <tr style=\"text-align: right;\">\n",
       "      <th></th>\n",
       "      <th>comp</th>\n",
       "      <th>ind</th>\n",
       "      <th>title</th>\n",
       "      <th>Key_words</th>\n",
       "    </tr>\n",
       "  </thead>\n",
       "  <tbody>\n",
       "    <tr>\n",
       "      <th>0</th>\n",
       "      <td>[entrepreneurialskills, enterprisearchitecture...</td>\n",
       "      <td>[consulting]</td>\n",
       "      <td>Head of Service (Healthcare)</td>\n",
       "      <td>[majority, operations, accompany, full, time, ...</td>\n",
       "    </tr>\n",
       "    <tr>\n",
       "      <th>1</th>\n",
       "      <td>[administrationskills]</td>\n",
       "      <td>[construction]</td>\n",
       "      <td>Financial Controller, Maternity Cover</td>\n",
       "      <td>[000, per, annum, .&lt;/, p, wednesday, 27, septe...</td>\n",
       "    </tr>\n",
       "    <tr>\n",
       "      <th>2</th>\n",
       "      <td>[strategicexpertise]</td>\n",
       "      <td>[informationtechnology]</td>\n",
       "      <td>Education Safeguarding Officer</td>\n",
       "      <td>[south, east, medium, england, uphold, standar...</td>\n",
       "    </tr>\n",
       "    <tr>\n",
       "      <th>3</th>\n",
       "      <td>[administrationskills, businessintelligence, c...</td>\n",
       "      <td>[consulting]</td>\n",
       "      <td>National Media Manager</td>\n",
       "      <td>[right, messages, excellent, team, leader, rol...</td>\n",
       "    </tr>\n",
       "    <tr>\n",
       "      <th>4</th>\n",
       "      <td>[businessdevelopmentandsales, changeleadership...</td>\n",
       "      <td>[consulting]</td>\n",
       "      <td>Director of Innovation Consultancy</td>\n",
       "      <td>[three, posts, public, thriving, societies, au...</td>\n",
       "    </tr>\n",
       "  </tbody>\n",
       "</table>\n",
       "</div>"
      ],
      "text/plain": [
       "                                                comp                      ind  \\\n",
       "0  [entrepreneurialskills, enterprisearchitecture...             [consulting]   \n",
       "1                             [administrationskills]           [construction]   \n",
       "2                               [strategicexpertise]  [informationtechnology]   \n",
       "3  [administrationskills, businessintelligence, c...             [consulting]   \n",
       "4  [businessdevelopmentandsales, changeleadership...             [consulting]   \n",
       "\n",
       "                                   title  \\\n",
       "0           Head of Service (Healthcare)   \n",
       "1  Financial Controller, Maternity Cover   \n",
       "2         Education Safeguarding Officer   \n",
       "3                 National Media Manager   \n",
       "4     Director of Innovation Consultancy   \n",
       "\n",
       "                                           Key_words  \n",
       "0  [majority, operations, accompany, full, time, ...  \n",
       "1  [000, per, annum, .</, p, wednesday, 27, septe...  \n",
       "2  [south, east, medium, england, uphold, standar...  \n",
       "3  [right, messages, excellent, team, leader, rol...  \n",
       "4  [three, posts, public, thriving, societies, au...  "
      ]
     },
     "execution_count": 25,
     "metadata": {},
     "output_type": "execute_result"
    }
   ],
   "source": [
    "df.head()"
   ]
  },
  {
   "cell_type": "code",
   "execution_count": 26,
   "metadata": {},
   "outputs": [
    {
     "data": {
      "text/html": [
       "<div>\n",
       "<style>\n",
       "    .dataframe thead tr:only-child th {\n",
       "        text-align: right;\n",
       "    }\n",
       "\n",
       "    .dataframe thead th {\n",
       "        text-align: left;\n",
       "    }\n",
       "\n",
       "    .dataframe tbody tr th {\n",
       "        vertical-align: top;\n",
       "    }\n",
       "</style>\n",
       "<table border=\"1\" class=\"dataframe\">\n",
       "  <thead>\n",
       "    <tr style=\"text-align: right;\">\n",
       "      <th></th>\n",
       "      <th>comp</th>\n",
       "      <th>ind</th>\n",
       "      <th>Key_words</th>\n",
       "    </tr>\n",
       "    <tr>\n",
       "      <th>title</th>\n",
       "      <th></th>\n",
       "      <th></th>\n",
       "      <th></th>\n",
       "    </tr>\n",
       "  </thead>\n",
       "  <tbody>\n",
       "    <tr>\n",
       "      <th>Head of Service (Healthcare)</th>\n",
       "      <td>[entrepreneurialskills, enterprisearchitecture...</td>\n",
       "      <td>[consulting]</td>\n",
       "      <td>[majority, operations, accompany, full, time, ...</td>\n",
       "    </tr>\n",
       "    <tr>\n",
       "      <th>Financial Controller, Maternity Cover</th>\n",
       "      <td>[administrationskills]</td>\n",
       "      <td>[construction]</td>\n",
       "      <td>[000, per, annum, .&lt;/, p, wednesday, 27, septe...</td>\n",
       "    </tr>\n",
       "    <tr>\n",
       "      <th>Education Safeguarding Officer</th>\n",
       "      <td>[strategicexpertise]</td>\n",
       "      <td>[informationtechnology]</td>\n",
       "      <td>[south, east, medium, england, uphold, standar...</td>\n",
       "    </tr>\n",
       "    <tr>\n",
       "      <th>National Media Manager</th>\n",
       "      <td>[administrationskills, businessintelligence, c...</td>\n",
       "      <td>[consulting]</td>\n",
       "      <td>[right, messages, excellent, team, leader, rol...</td>\n",
       "    </tr>\n",
       "    <tr>\n",
       "      <th>Director of Innovation Consultancy</th>\n",
       "      <td>[businessdevelopmentandsales, changeleadership...</td>\n",
       "      <td>[consulting]</td>\n",
       "      <td>[three, posts, public, thriving, societies, au...</td>\n",
       "    </tr>\n",
       "  </tbody>\n",
       "</table>\n",
       "</div>"
      ],
      "text/plain": [
       "                                                                                    comp  \\\n",
       "title                                                                                      \n",
       "Head of Service (Healthcare)           [entrepreneurialskills, enterprisearchitecture...   \n",
       "Financial Controller, Maternity Cover                             [administrationskills]   \n",
       "Education Safeguarding Officer                                      [strategicexpertise]   \n",
       "National Media Manager                 [administrationskills, businessintelligence, c...   \n",
       "Director of Innovation Consultancy     [businessdevelopmentandsales, changeleadership...   \n",
       "\n",
       "                                                           ind  \\\n",
       "title                                                            \n",
       "Head of Service (Healthcare)                      [consulting]   \n",
       "Financial Controller, Maternity Cover           [construction]   \n",
       "Education Safeguarding Officer         [informationtechnology]   \n",
       "National Media Manager                            [consulting]   \n",
       "Director of Innovation Consultancy                [consulting]   \n",
       "\n",
       "                                                                               Key_words  \n",
       "title                                                                                     \n",
       "Head of Service (Healthcare)           [majority, operations, accompany, full, time, ...  \n",
       "Financial Controller, Maternity Cover  [000, per, annum, .</, p, wednesday, 27, septe...  \n",
       "Education Safeguarding Officer         [south, east, medium, england, uphold, standar...  \n",
       "National Media Manager                 [right, messages, excellent, team, leader, rol...  \n",
       "Director of Innovation Consultancy     [three, posts, public, thriving, societies, au...  "
      ]
     },
     "execution_count": 26,
     "metadata": {},
     "output_type": "execute_result"
    }
   ],
   "source": [
    "df.set_index('title', inplace = True)\n",
    "df.head()"
   ]
  },
  {
   "cell_type": "code",
   "execution_count": 27,
   "metadata": {
    "collapsed": true
   },
   "outputs": [],
   "source": [
    "df['bag_of_words'] = ''\n",
    "columns = df.columns\n",
    "for index, row in df.iterrows():\n",
    "    words = ''\n",
    "    for col in columns:\n",
    "        if col != 'comp' or col != 'ind':\n",
    "            words = words + ' '.join(row[col])+ ' '\n",
    "        else:\n",
    "            words = words + row[col]+ ' '\n",
    "    row['bag_of_words'] = words\n",
    "    \n",
    "df.drop([col for col in df.columns if col!= 'bag_of_words'],axis = 1, inplace = True)"
   ]
  },
  {
   "cell_type": "code",
   "execution_count": 28,
   "metadata": {},
   "outputs": [
    {
     "data": {
      "text/html": [
       "<div>\n",
       "<style>\n",
       "    .dataframe thead tr:only-child th {\n",
       "        text-align: right;\n",
       "    }\n",
       "\n",
       "    .dataframe thead th {\n",
       "        text-align: left;\n",
       "    }\n",
       "\n",
       "    .dataframe tbody tr th {\n",
       "        vertical-align: top;\n",
       "    }\n",
       "</style>\n",
       "<table border=\"1\" class=\"dataframe\">\n",
       "  <thead>\n",
       "    <tr style=\"text-align: right;\">\n",
       "      <th></th>\n",
       "      <th>bag_of_words</th>\n",
       "    </tr>\n",
       "    <tr>\n",
       "      <th>title</th>\n",
       "      <th></th>\n",
       "    </tr>\n",
       "  </thead>\n",
       "  <tbody>\n",
       "    <tr>\n",
       "      <th>Head of Service (Healthcare)</th>\n",
       "      <td>entrepreneurialskills enterprisearchitecture s...</td>\n",
       "    </tr>\n",
       "    <tr>\n",
       "      <th>Financial Controller, Maternity Cover</th>\n",
       "      <td>administrationskills construction 000 per annu...</td>\n",
       "    </tr>\n",
       "    <tr>\n",
       "      <th>Education Safeguarding Officer</th>\n",
       "      <td>strategicexpertise informationtechnology south...</td>\n",
       "    </tr>\n",
       "    <tr>\n",
       "      <th>National Media Manager</th>\n",
       "      <td>administrationskills businessintelligence cust...</td>\n",
       "    </tr>\n",
       "    <tr>\n",
       "      <th>Director of Innovation Consultancy</th>\n",
       "      <td>businessdevelopmentandsales changeleadership c...</td>\n",
       "    </tr>\n",
       "  </tbody>\n",
       "</table>\n",
       "</div>"
      ],
      "text/plain": [
       "                                                                            bag_of_words\n",
       "title                                                                                   \n",
       "Head of Service (Healthcare)           entrepreneurialskills enterprisearchitecture s...\n",
       "Financial Controller, Maternity Cover  administrationskills construction 000 per annu...\n",
       "Education Safeguarding Officer         strategicexpertise informationtechnology south...\n",
       "National Media Manager                 administrationskills businessintelligence cust...\n",
       "Director of Innovation Consultancy     businessdevelopmentandsales changeleadership c..."
      ]
     },
     "execution_count": 28,
     "metadata": {},
     "output_type": "execute_result"
    }
   ],
   "source": [
    "df.head()"
   ]
  },
  {
   "cell_type": "code",
   "execution_count": 29,
   "metadata": {},
   "outputs": [
    {
     "data": {
      "text/plain": [
       "0             Head of Service (Healthcare)\n",
       "1    Financial Controller, Maternity Cover\n",
       "2           Education Safeguarding Officer\n",
       "3                   National Media Manager\n",
       "4       Director of Innovation Consultancy\n",
       "Name: title, dtype: object"
      ]
     },
     "execution_count": 29,
     "metadata": {},
     "output_type": "execute_result"
    }
   ],
   "source": [
    "# instantiating and generating the count matrix\n",
    "count = CountVectorizer()\n",
    "count_matrix = count.fit_transform(df['bag_of_words'])\n",
    "\n",
    "# creating a Series for the movie titles so they are associated to an ordered numerical\n",
    "# list I will use later to match the indexes\n",
    "indices = pd.Series(df.index)\n",
    "indices[:5]"
   ]
  },
  {
   "cell_type": "code",
   "execution_count": 30,
   "metadata": {},
   "outputs": [
    {
     "data": {
      "text/plain": [
       "array([[ 1.        ,  0.2121394 ,  0.14689964, ...,  0.05197192,\n",
       "         0.0244998 ,  0.        ],\n",
       "       [ 0.2121394 ,  1.        ,  0.13436308, ...,  0.04859295,\n",
       "         0.03436041,  0.        ],\n",
       "       [ 0.14689964,  0.13436308,  1.        , ...,  0.05266807,\n",
       "         0.03724195,  0.        ],\n",
       "       ..., \n",
       "       [ 0.05197192,  0.04859295,  0.05266807, ...,  1.        ,\n",
       "         0.20203051,  0.15430335],\n",
       "       [ 0.0244998 ,  0.03436041,  0.03724195, ...,  0.20203051,\n",
       "         1.        ,  0.10910895],\n",
       "       [ 0.        ,  0.        ,  0.        , ...,  0.15430335,\n",
       "         0.10910895,  1.        ]])"
      ]
     },
     "execution_count": 30,
     "metadata": {},
     "output_type": "execute_result"
    }
   ],
   "source": [
    "# generating the cosine similarity matrix\n",
    "cosine_sim = cosine_similarity(count_matrix, count_matrix)\n",
    "cosine_sim"
   ]
  },
  {
   "cell_type": "code",
   "execution_count": 45,
   "metadata": {
    "collapsed": true
   },
   "outputs": [],
   "source": [
    "def recommendations(title, cosine_sim = cosine_sim):\n",
    "    \n",
    "    recommended_movies = []\n",
    "    \n",
    "    # gettin the index of the movie that matches the title\n",
    "    idx = indices[indices == title].index[0]\n",
    "    #print(idx)\n",
    "\n",
    "    # creating a Series with the similarity scores in descending order\n",
    "    score_series = pd.Series(cosine_sim[idx]).sort_values(ascending = False)\n",
    "    #print(score_series)\n",
    "\n",
    "    # getting the indexes of the 10 most similar movies\n",
    "    top_10_indexes = list(score_series.iloc[1:11].index)\n",
    "    \n",
    "    # populating the list with the titles of the best 10 matching movies\n",
    "    for i in top_10_indexes:\n",
    "        recommended_movies.append(list(df.index)[i])\n",
    "        \n",
    "    return recommended_movies"
   ]
  },
  {
   "cell_type": "code",
   "execution_count": 48,
   "metadata": {},
   "outputs": [
    {
     "data": {
      "text/plain": [
       "['Accounting Clerks',\n",
       " 'Account Management, Manager',\n",
       " 'Accounting Vice President',\n",
       " 'Account Collector-2203',\n",
       " 'Testing Job',\n",
       " 'Claims Adjuster',\n",
       " 'CCO (Chief Contracting Officer)-1',\n",
       " 'CCO (Chief Contracting Officer)',\n",
       " 'Audit Supervisor',\n",
       " 'Project Manager Level 5']"
      ]
     },
     "execution_count": 48,
     "metadata": {},
     "output_type": "execute_result"
    }
   ],
   "source": [
    "recommendations('Account Collector')"
   ]
  },
  {
   "cell_type": "code",
   "execution_count": null,
   "metadata": {
    "collapsed": true
   },
   "outputs": [],
   "source": []
  }
 ],
 "metadata": {
  "kernelspec": {
   "display_name": "Python 3",
   "language": "python",
   "name": "python3"
  },
  "language_info": {
   "codemirror_mode": {
    "name": "ipython",
    "version": 3
   },
   "file_extension": ".py",
   "mimetype": "text/x-python",
   "name": "python",
   "nbconvert_exporter": "python",
   "pygments_lexer": "ipython3",
   "version": "3.6.3"
  }
 },
 "nbformat": 4,
 "nbformat_minor": 2
}
